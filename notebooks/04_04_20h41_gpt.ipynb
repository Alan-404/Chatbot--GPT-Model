{
 "cells": [
  {
   "cell_type": "code",
   "execution_count": 1,
   "source": [
    "from model.gpt import GPT\n",
    "import torch\n",
    "import pickle"
   ],
   "outputs": [
    {
     "output_type": "stream",
     "name": "stderr",
     "text": [
      "c:\\Users\\nguye\\AppData\\Local\\Programs\\Python\\Python310\\lib\\site-packages\\tqdm\\auto.py:22: TqdmWarning: IProgress not found. Please update jupyter and ipywidgets. See https://ipywidgets.readthedocs.io/en/stable/user_install.html\n",
      "  from .autonotebook import tqdm as notebook_tqdm\n"
     ]
    }
   ],
   "metadata": {}
  },
  {
   "cell_type": "code",
   "execution_count": 2,
   "source": [
    "with open('./tokenizer/tokenizer.pkl', 'rb') as handle:\n",
    "    tokenizer = pickle.load(handle)"
   ],
   "outputs": [],
   "metadata": {}
  },
  {
   "cell_type": "code",
   "execution_count": 3,
   "source": [
    "vocab_size = len(tokenizer.word_index)+1"
   ],
   "outputs": [],
   "metadata": {}
  },
  {
   "cell_type": "code",
   "execution_count": 4,
   "source": [
    "model = GPT(vocab_size=vocab_size)"
   ],
   "outputs": [],
   "metadata": {}
  },
  {
   "cell_type": "code",
   "execution_count": 5,
   "source": [
    "with open('./clean/data.pkl', 'rb') as handle:\n",
    "    data = pickle.load(handle)"
   ],
   "outputs": [],
   "metadata": {}
  },
  {
   "cell_type": "code",
   "execution_count": 6,
   "source": [
    "data.shape"
   ],
   "outputs": [
    {
     "output_type": "execute_result",
     "data": {
      "text/plain": [
       "(584, 201)"
      ]
     },
     "metadata": {},
     "execution_count": 6
    }
   ],
   "metadata": {}
  },
  {
   "cell_type": "code",
   "execution_count": 7,
   "source": [
    "data = torch.tensor(data, dtype=torch.int64)"
   ],
   "outputs": [],
   "metadata": {}
  },
  {
   "cell_type": "code",
   "execution_count": 11,
   "source": [
    "model.fit(sequences=data, batch_size=10, epochs=5)"
   ],
   "outputs": [
    {
     "output_type": "stream",
     "name": "stdout",
     "text": [
      "Epoch: 0 Batch: 1 Loss: 152.01\n",
      "Epoch: 0 Batch: 11 Loss: 1520.12\n",
      "Epoch: 0 Batch: 21 Loss: 1520.11\n",
      "Epoch: 0 Batch: 31 Loss: 1520.11\n",
      "Epoch: 0 Batch: 41 Loss: 1520.09\n",
      "Epoch: 0 Batch: 51 Loss: 1520.08\n",
      "Epoch: 1 Batch: 1 Loss: 152.00\n",
      "Epoch: 1 Batch: 11 Loss: 1520.04\n",
      "Epoch: 1 Batch: 21 Loss: 1520.00\n",
      "Epoch: 1 Batch: 31 Loss: 1519.96\n",
      "Epoch: 1 Batch: 41 Loss: 1519.90\n",
      "Epoch: 1 Batch: 51 Loss: 1519.80\n",
      "Epoch: 2 Batch: 1 Loss: 151.95\n",
      "Epoch: 2 Batch: 11 Loss: 1519.41\n",
      "Epoch: 2 Batch: 21 Loss: 1519.03\n",
      "Epoch: 2 Batch: 31 Loss: 1518.25\n",
      "Epoch: 2 Batch: 41 Loss: 1516.77\n",
      "Epoch: 2 Batch: 51 Loss: 1513.92\n",
      "Epoch: 3 Batch: 1 Loss: 150.53\n",
      "Epoch: 3 Batch: 11 Loss: 1496.98\n",
      "Epoch: 3 Batch: 21 Loss: 1473.21\n",
      "Epoch: 3 Batch: 31 Loss: 1437.91\n",
      "Epoch: 3 Batch: 41 Loss: 1398.32\n",
      "Epoch: 3 Batch: 51 Loss: 1371.37\n",
      "Epoch: 4 Batch: 1 Loss: 135.83\n",
      "Epoch: 4 Batch: 11 Loss: 1349.49\n",
      "Epoch: 4 Batch: 21 Loss: 1344.42\n",
      "Epoch: 4 Batch: 31 Loss: 1343.46\n",
      "Epoch: 4 Batch: 41 Loss: 1341.43\n",
      "Epoch: 4 Batch: 51 Loss: 1340.35\n"
     ]
    }
   ],
   "metadata": {}
  },
  {
   "cell_type": "code",
   "execution_count": 12,
   "source": [
    "torch.save(model, \"./saved_models/04_02_20h41_gpt\")"
   ],
   "outputs": [],
   "metadata": {}
  }
 ],
 "nbformat": 4,
 "nbformat_minor": 2,
 "metadata": {
  "language_info": {
   "codemirror_mode": {
    "name": "ipython",
    "version": 3
   },
   "file_extension": ".py",
   "mimetype": "text/x-python",
   "name": "python",
   "nbconvert_exporter": "python",
   "pygments_lexer": "ipython3",
   "version": 3
  },
  "orig_nbformat": 4
 }
}